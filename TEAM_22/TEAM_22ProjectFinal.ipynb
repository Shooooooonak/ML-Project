{
  "nbformat": 4,
  "nbformat_minor": 0,
  "metadata": {
    "colab": {
      "provenance": []
    },
    "kernelspec": {
      "name": "python3",
      "display_name": "Python 3"
    },
    "language_info": {
      "name": "python"
    }
  },
  "cells": [
    {
      "cell_type": "markdown",
      "source": [
        "##**BITS F464 - Semester 1 - MACHINE LEARNING**\n",
        "--------------------------------------------------------------------------------\n",
        "\n",
        "**PROJECT - MACHINE LEARNING FOR SUSTAINABLE DEVELOPMENT GOALS (SDGs)**\n",
        "--------------------------------------------------------------------------------\n",
        "***Team number:*** 6\n",
        "\n",
        "---\n",
        "\n",
        "***Full names of all students in the team***: SHASHANK SAI ALLADI, RAGHAV SARDA, ANISH KARAR, RISHITH DAMANI, SHOUNAK ACHARYA\n",
        "\n",
        "---\n",
        "***Id number of all students in the team:*** 2021A7PS1507H, 2021A7PS2765H, 2021A3PS0970H, 2021A3PS2147H, 2021AAPS2120H\n"
      ],
      "metadata": {
        "id": "Vj_r89FzT41w"
      }
    },
    {
      "cell_type": "markdown",
      "source": [
        "Please refer to the email providing the assignment of project and follow the instructions provided in the project brief.\n"
      ],
      "metadata": {
        "id": "Z_duS0Zn17c3"
      }
    },
    {
      "cell_type": "markdown",
      "source": [
        "# **_1. Preprocessing of Dataset_**"
      ],
      "metadata": {
        "id": "yT-dTtra2h2n"
      }
    },
    {
      "cell_type": "markdown",
      "source": [
        "### The respective dataset has been shared in the project brief. Please refer to it."
      ],
      "metadata": {
        "id": "2UsOVUj22wrz"
      }
    },
    {
      "cell_type": "code",
      "source": [
        "# Importing the needed libraries\n",
        "import pandas as pd\n",
        "import numpy as np\n",
        "import matplotlib.pyplot as plt\n",
        "import warnings\n",
        "\n",
        "\n",
        "# Ignore all warnings for the entire script\n",
        "warnings.simplefilter('ignore')"
      ],
      "metadata": {
        "id": "ZEI3aj2LAAsn"
      },
      "execution_count": 1,
      "outputs": []
    },
    {
      "cell_type": "code",
      "source": [
        "# Reading the CSV file as a DataFrame\n",
        "cred_data = pd.read_csv('/content/Economic_Growth_Trend.csv', header=None)\n",
        "\n",
        "#Adding a header row for each attribute of dataset for readability\n",
        "header=attribute_names = [\n",
        "    'Status of existing checking account (A)',\n",
        "    'Duration in month (B)',\n",
        "    'Credit history (C)',\n",
        "    'Purpose (D)',\n",
        "    'Credit amount (E)',\n",
        "    'Savings account/bonds (F)',\n",
        "    'Present employment since (G)',\n",
        "    'Installment rate in percentage of disposable income (H)',\n",
        "    'Personal status and sex (I)',\n",
        "    'Other debtors / guarantors (J)',\n",
        "    'Present residence since (K)',\n",
        "    'Property (L)',\n",
        "    'Age in years (M)',\n",
        "    'Other installment plans (N)',\n",
        "    'Housing (0)',\n",
        "    'Number of existing credits at this bank (P)',\n",
        "    'Job (Q)',\n",
        "    'Number of people being liable to provide maintenance for (R)',\n",
        "    'Telephone (S)',\n",
        "    'Foreign worker (T)',\n",
        "    'Customer classification (U)'\n",
        "]\n",
        "\n",
        "\n",
        "cred_data.columns=header\n",
        "\n",
        "# Displaying the first 5 rows of our DataFrame\n",
        "cred_data.head()\n"
      ],
      "metadata": {
        "colab": {
          "base_uri": "https://localhost:8080/",
          "height": 360
        },
        "id": "wWebN3SNAJUl",
        "outputId": "532f8f33-c13a-450e-b51a-612bc83a9a29"
      },
      "execution_count": 2,
      "outputs": [
        {
          "output_type": "execute_result",
          "data": {
            "text/plain": [
              "  Status of existing checking account (A)  Duration in month (B)  \\\n",
              "0                                     A11                      6   \n",
              "1                                     A12                     48   \n",
              "2                                     A14                     12   \n",
              "3                                     A11                     42   \n",
              "4                                     A11                     24   \n",
              "\n",
              "  Credit history (C) Purpose (D)  Credit amount (E) Savings account/bonds (F)  \\\n",
              "0                A34         A43               1169                       A65   \n",
              "1                A32         A43               5951                       A61   \n",
              "2                A34         A46               2096                       A61   \n",
              "3                A32         A42               7882                       A61   \n",
              "4                A33         A40               4870                       A61   \n",
              "\n",
              "  Present employment since (G)  \\\n",
              "0                          A75   \n",
              "1                          A73   \n",
              "2                          A74   \n",
              "3                          A74   \n",
              "4                          A73   \n",
              "\n",
              "   Installment rate in percentage of disposable income (H)  \\\n",
              "0                                                  4         \n",
              "1                                                  2         \n",
              "2                                                  2         \n",
              "3                                                  2         \n",
              "4                                                  3         \n",
              "\n",
              "  Personal status and sex (I) Other debtors / guarantors (J)  ...  \\\n",
              "0                         A93                           A101  ...   \n",
              "1                         A92                           A101  ...   \n",
              "2                         A93                           A101  ...   \n",
              "3                         A93                           A103  ...   \n",
              "4                         A93                           A101  ...   \n",
              "\n",
              "   Property (L) Age in years (M)  Other installment plans (N) Housing (0)  \\\n",
              "0          A121               67                         A143        A152   \n",
              "1          A121               22                         A143        A152   \n",
              "2          A121               49                         A143        A152   \n",
              "3          A122               45                         A143        A153   \n",
              "4          A124               53                         A143        A153   \n",
              "\n",
              "  Number of existing credits at this bank (P)  Job (Q)  \\\n",
              "0                                           2     A173   \n",
              "1                                           1     A173   \n",
              "2                                           1     A172   \n",
              "3                                           1     A173   \n",
              "4                                           2     A173   \n",
              "\n",
              "  Number of people being liable to provide maintenance for (R)  Telephone (S)  \\\n",
              "0                                                  1                     A192   \n",
              "1                                                  1                     A191   \n",
              "2                                                  2                     A191   \n",
              "3                                                  2                     A191   \n",
              "4                                                  2                     A191   \n",
              "\n",
              "  Foreign worker (T) Customer classification (U)  \n",
              "0               A201                           1  \n",
              "1               A201                           2  \n",
              "2               A201                           1  \n",
              "3               A201                           1  \n",
              "4               A201                           2  \n",
              "\n",
              "[5 rows x 21 columns]"
            ],
            "text/html": [
              "\n",
              "  <div id=\"df-0781b3f5-b333-43f4-99b9-ae8eeb2464e4\" class=\"colab-df-container\">\n",
              "    <div>\n",
              "<style scoped>\n",
              "    .dataframe tbody tr th:only-of-type {\n",
              "        vertical-align: middle;\n",
              "    }\n",
              "\n",
              "    .dataframe tbody tr th {\n",
              "        vertical-align: top;\n",
              "    }\n",
              "\n",
              "    .dataframe thead th {\n",
              "        text-align: right;\n",
              "    }\n",
              "</style>\n",
              "<table border=\"1\" class=\"dataframe\">\n",
              "  <thead>\n",
              "    <tr style=\"text-align: right;\">\n",
              "      <th></th>\n",
              "      <th>Status of existing checking account (A)</th>\n",
              "      <th>Duration in month (B)</th>\n",
              "      <th>Credit history (C)</th>\n",
              "      <th>Purpose (D)</th>\n",
              "      <th>Credit amount (E)</th>\n",
              "      <th>Savings account/bonds (F)</th>\n",
              "      <th>Present employment since (G)</th>\n",
              "      <th>Installment rate in percentage of disposable income (H)</th>\n",
              "      <th>Personal status and sex (I)</th>\n",
              "      <th>Other debtors / guarantors (J)</th>\n",
              "      <th>...</th>\n",
              "      <th>Property (L)</th>\n",
              "      <th>Age in years (M)</th>\n",
              "      <th>Other installment plans (N)</th>\n",
              "      <th>Housing (0)</th>\n",
              "      <th>Number of existing credits at this bank (P)</th>\n",
              "      <th>Job (Q)</th>\n",
              "      <th>Number of people being liable to provide maintenance for (R)</th>\n",
              "      <th>Telephone (S)</th>\n",
              "      <th>Foreign worker (T)</th>\n",
              "      <th>Customer classification (U)</th>\n",
              "    </tr>\n",
              "  </thead>\n",
              "  <tbody>\n",
              "    <tr>\n",
              "      <th>0</th>\n",
              "      <td>A11</td>\n",
              "      <td>6</td>\n",
              "      <td>A34</td>\n",
              "      <td>A43</td>\n",
              "      <td>1169</td>\n",
              "      <td>A65</td>\n",
              "      <td>A75</td>\n",
              "      <td>4</td>\n",
              "      <td>A93</td>\n",
              "      <td>A101</td>\n",
              "      <td>...</td>\n",
              "      <td>A121</td>\n",
              "      <td>67</td>\n",
              "      <td>A143</td>\n",
              "      <td>A152</td>\n",
              "      <td>2</td>\n",
              "      <td>A173</td>\n",
              "      <td>1</td>\n",
              "      <td>A192</td>\n",
              "      <td>A201</td>\n",
              "      <td>1</td>\n",
              "    </tr>\n",
              "    <tr>\n",
              "      <th>1</th>\n",
              "      <td>A12</td>\n",
              "      <td>48</td>\n",
              "      <td>A32</td>\n",
              "      <td>A43</td>\n",
              "      <td>5951</td>\n",
              "      <td>A61</td>\n",
              "      <td>A73</td>\n",
              "      <td>2</td>\n",
              "      <td>A92</td>\n",
              "      <td>A101</td>\n",
              "      <td>...</td>\n",
              "      <td>A121</td>\n",
              "      <td>22</td>\n",
              "      <td>A143</td>\n",
              "      <td>A152</td>\n",
              "      <td>1</td>\n",
              "      <td>A173</td>\n",
              "      <td>1</td>\n",
              "      <td>A191</td>\n",
              "      <td>A201</td>\n",
              "      <td>2</td>\n",
              "    </tr>\n",
              "    <tr>\n",
              "      <th>2</th>\n",
              "      <td>A14</td>\n",
              "      <td>12</td>\n",
              "      <td>A34</td>\n",
              "      <td>A46</td>\n",
              "      <td>2096</td>\n",
              "      <td>A61</td>\n",
              "      <td>A74</td>\n",
              "      <td>2</td>\n",
              "      <td>A93</td>\n",
              "      <td>A101</td>\n",
              "      <td>...</td>\n",
              "      <td>A121</td>\n",
              "      <td>49</td>\n",
              "      <td>A143</td>\n",
              "      <td>A152</td>\n",
              "      <td>1</td>\n",
              "      <td>A172</td>\n",
              "      <td>2</td>\n",
              "      <td>A191</td>\n",
              "      <td>A201</td>\n",
              "      <td>1</td>\n",
              "    </tr>\n",
              "    <tr>\n",
              "      <th>3</th>\n",
              "      <td>A11</td>\n",
              "      <td>42</td>\n",
              "      <td>A32</td>\n",
              "      <td>A42</td>\n",
              "      <td>7882</td>\n",
              "      <td>A61</td>\n",
              "      <td>A74</td>\n",
              "      <td>2</td>\n",
              "      <td>A93</td>\n",
              "      <td>A103</td>\n",
              "      <td>...</td>\n",
              "      <td>A122</td>\n",
              "      <td>45</td>\n",
              "      <td>A143</td>\n",
              "      <td>A153</td>\n",
              "      <td>1</td>\n",
              "      <td>A173</td>\n",
              "      <td>2</td>\n",
              "      <td>A191</td>\n",
              "      <td>A201</td>\n",
              "      <td>1</td>\n",
              "    </tr>\n",
              "    <tr>\n",
              "      <th>4</th>\n",
              "      <td>A11</td>\n",
              "      <td>24</td>\n",
              "      <td>A33</td>\n",
              "      <td>A40</td>\n",
              "      <td>4870</td>\n",
              "      <td>A61</td>\n",
              "      <td>A73</td>\n",
              "      <td>3</td>\n",
              "      <td>A93</td>\n",
              "      <td>A101</td>\n",
              "      <td>...</td>\n",
              "      <td>A124</td>\n",
              "      <td>53</td>\n",
              "      <td>A143</td>\n",
              "      <td>A153</td>\n",
              "      <td>2</td>\n",
              "      <td>A173</td>\n",
              "      <td>2</td>\n",
              "      <td>A191</td>\n",
              "      <td>A201</td>\n",
              "      <td>2</td>\n",
              "    </tr>\n",
              "  </tbody>\n",
              "</table>\n",
              "<p>5 rows × 21 columns</p>\n",
              "</div>\n",
              "    <div class=\"colab-df-buttons\">\n",
              "\n",
              "  <div class=\"colab-df-container\">\n",
              "    <button class=\"colab-df-convert\" onclick=\"convertToInteractive('df-0781b3f5-b333-43f4-99b9-ae8eeb2464e4')\"\n",
              "            title=\"Convert this dataframe to an interactive table.\"\n",
              "            style=\"display:none;\">\n",
              "\n",
              "  <svg xmlns=\"http://www.w3.org/2000/svg\" height=\"24px\" viewBox=\"0 -960 960 960\">\n",
              "    <path d=\"M120-120v-720h720v720H120Zm60-500h600v-160H180v160Zm220 220h160v-160H400v160Zm0 220h160v-160H400v160ZM180-400h160v-160H180v160Zm440 0h160v-160H620v160ZM180-180h160v-160H180v160Zm440 0h160v-160H620v160Z\"/>\n",
              "  </svg>\n",
              "    </button>\n",
              "\n",
              "  <style>\n",
              "    .colab-df-container {\n",
              "      display:flex;\n",
              "      gap: 12px;\n",
              "    }\n",
              "\n",
              "    .colab-df-convert {\n",
              "      background-color: #E8F0FE;\n",
              "      border: none;\n",
              "      border-radius: 50%;\n",
              "      cursor: pointer;\n",
              "      display: none;\n",
              "      fill: #1967D2;\n",
              "      height: 32px;\n",
              "      padding: 0 0 0 0;\n",
              "      width: 32px;\n",
              "    }\n",
              "\n",
              "    .colab-df-convert:hover {\n",
              "      background-color: #E2EBFA;\n",
              "      box-shadow: 0px 1px 2px rgba(60, 64, 67, 0.3), 0px 1px 3px 1px rgba(60, 64, 67, 0.15);\n",
              "      fill: #174EA6;\n",
              "    }\n",
              "\n",
              "    .colab-df-buttons div {\n",
              "      margin-bottom: 4px;\n",
              "    }\n",
              "\n",
              "    [theme=dark] .colab-df-convert {\n",
              "      background-color: #3B4455;\n",
              "      fill: #D2E3FC;\n",
              "    }\n",
              "\n",
              "    [theme=dark] .colab-df-convert:hover {\n",
              "      background-color: #434B5C;\n",
              "      box-shadow: 0px 1px 3px 1px rgba(0, 0, 0, 0.15);\n",
              "      filter: drop-shadow(0px 1px 2px rgba(0, 0, 0, 0.3));\n",
              "      fill: #FFFFFF;\n",
              "    }\n",
              "  </style>\n",
              "\n",
              "    <script>\n",
              "      const buttonEl =\n",
              "        document.querySelector('#df-0781b3f5-b333-43f4-99b9-ae8eeb2464e4 button.colab-df-convert');\n",
              "      buttonEl.style.display =\n",
              "        google.colab.kernel.accessAllowed ? 'block' : 'none';\n",
              "\n",
              "      async function convertToInteractive(key) {\n",
              "        const element = document.querySelector('#df-0781b3f5-b333-43f4-99b9-ae8eeb2464e4');\n",
              "        const dataTable =\n",
              "          await google.colab.kernel.invokeFunction('convertToInteractive',\n",
              "                                                    [key], {});\n",
              "        if (!dataTable) return;\n",
              "\n",
              "        const docLinkHtml = 'Like what you see? Visit the ' +\n",
              "          '<a target=\"_blank\" href=https://colab.research.google.com/notebooks/data_table.ipynb>data table notebook</a>'\n",
              "          + ' to learn more about interactive tables.';\n",
              "        element.innerHTML = '';\n",
              "        dataTable['output_type'] = 'display_data';\n",
              "        await google.colab.output.renderOutput(dataTable, element);\n",
              "        const docLink = document.createElement('div');\n",
              "        docLink.innerHTML = docLinkHtml;\n",
              "        element.appendChild(docLink);\n",
              "      }\n",
              "    </script>\n",
              "  </div>\n",
              "\n",
              "\n",
              "<div id=\"df-48025ff9-7ba6-4de7-9f0c-c51c46bb796e\">\n",
              "  <button class=\"colab-df-quickchart\" onclick=\"quickchart('df-48025ff9-7ba6-4de7-9f0c-c51c46bb796e')\"\n",
              "            title=\"Suggest charts\"\n",
              "            style=\"display:none;\">\n",
              "\n",
              "<svg xmlns=\"http://www.w3.org/2000/svg\" height=\"24px\"viewBox=\"0 0 24 24\"\n",
              "     width=\"24px\">\n",
              "    <g>\n",
              "        <path d=\"M19 3H5c-1.1 0-2 .9-2 2v14c0 1.1.9 2 2 2h14c1.1 0 2-.9 2-2V5c0-1.1-.9-2-2-2zM9 17H7v-7h2v7zm4 0h-2V7h2v10zm4 0h-2v-4h2v4z\"/>\n",
              "    </g>\n",
              "</svg>\n",
              "  </button>\n",
              "\n",
              "<style>\n",
              "  .colab-df-quickchart {\n",
              "      --bg-color: #E8F0FE;\n",
              "      --fill-color: #1967D2;\n",
              "      --hover-bg-color: #E2EBFA;\n",
              "      --hover-fill-color: #174EA6;\n",
              "      --disabled-fill-color: #AAA;\n",
              "      --disabled-bg-color: #DDD;\n",
              "  }\n",
              "\n",
              "  [theme=dark] .colab-df-quickchart {\n",
              "      --bg-color: #3B4455;\n",
              "      --fill-color: #D2E3FC;\n",
              "      --hover-bg-color: #434B5C;\n",
              "      --hover-fill-color: #FFFFFF;\n",
              "      --disabled-bg-color: #3B4455;\n",
              "      --disabled-fill-color: #666;\n",
              "  }\n",
              "\n",
              "  .colab-df-quickchart {\n",
              "    background-color: var(--bg-color);\n",
              "    border: none;\n",
              "    border-radius: 50%;\n",
              "    cursor: pointer;\n",
              "    display: none;\n",
              "    fill: var(--fill-color);\n",
              "    height: 32px;\n",
              "    padding: 0;\n",
              "    width: 32px;\n",
              "  }\n",
              "\n",
              "  .colab-df-quickchart:hover {\n",
              "    background-color: var(--hover-bg-color);\n",
              "    box-shadow: 0 1px 2px rgba(60, 64, 67, 0.3), 0 1px 3px 1px rgba(60, 64, 67, 0.15);\n",
              "    fill: var(--button-hover-fill-color);\n",
              "  }\n",
              "\n",
              "  .colab-df-quickchart-complete:disabled,\n",
              "  .colab-df-quickchart-complete:disabled:hover {\n",
              "    background-color: var(--disabled-bg-color);\n",
              "    fill: var(--disabled-fill-color);\n",
              "    box-shadow: none;\n",
              "  }\n",
              "\n",
              "  .colab-df-spinner {\n",
              "    border: 2px solid var(--fill-color);\n",
              "    border-color: transparent;\n",
              "    border-bottom-color: var(--fill-color);\n",
              "    animation:\n",
              "      spin 1s steps(1) infinite;\n",
              "  }\n",
              "\n",
              "  @keyframes spin {\n",
              "    0% {\n",
              "      border-color: transparent;\n",
              "      border-bottom-color: var(--fill-color);\n",
              "      border-left-color: var(--fill-color);\n",
              "    }\n",
              "    20% {\n",
              "      border-color: transparent;\n",
              "      border-left-color: var(--fill-color);\n",
              "      border-top-color: var(--fill-color);\n",
              "    }\n",
              "    30% {\n",
              "      border-color: transparent;\n",
              "      border-left-color: var(--fill-color);\n",
              "      border-top-color: var(--fill-color);\n",
              "      border-right-color: var(--fill-color);\n",
              "    }\n",
              "    40% {\n",
              "      border-color: transparent;\n",
              "      border-right-color: var(--fill-color);\n",
              "      border-top-color: var(--fill-color);\n",
              "    }\n",
              "    60% {\n",
              "      border-color: transparent;\n",
              "      border-right-color: var(--fill-color);\n",
              "    }\n",
              "    80% {\n",
              "      border-color: transparent;\n",
              "      border-right-color: var(--fill-color);\n",
              "      border-bottom-color: var(--fill-color);\n",
              "    }\n",
              "    90% {\n",
              "      border-color: transparent;\n",
              "      border-bottom-color: var(--fill-color);\n",
              "    }\n",
              "  }\n",
              "</style>\n",
              "\n",
              "  <script>\n",
              "    async function quickchart(key) {\n",
              "      const quickchartButtonEl =\n",
              "        document.querySelector('#' + key + ' button');\n",
              "      quickchartButtonEl.disabled = true;  // To prevent multiple clicks.\n",
              "      quickchartButtonEl.classList.add('colab-df-spinner');\n",
              "      try {\n",
              "        const charts = await google.colab.kernel.invokeFunction(\n",
              "            'suggestCharts', [key], {});\n",
              "      } catch (error) {\n",
              "        console.error('Error during call to suggestCharts:', error);\n",
              "      }\n",
              "      quickchartButtonEl.classList.remove('colab-df-spinner');\n",
              "      quickchartButtonEl.classList.add('colab-df-quickchart-complete');\n",
              "    }\n",
              "    (() => {\n",
              "      let quickchartButtonEl =\n",
              "        document.querySelector('#df-48025ff9-7ba6-4de7-9f0c-c51c46bb796e button');\n",
              "      quickchartButtonEl.style.display =\n",
              "        google.colab.kernel.accessAllowed ? 'block' : 'none';\n",
              "    })();\n",
              "  </script>\n",
              "</div>\n",
              "    </div>\n",
              "  </div>\n"
            ]
          },
          "metadata": {},
          "execution_count": 2
        }
      ]
    },
    {
      "cell_type": "code",
      "source": [
        "print(cred_data.shape)"
      ],
      "metadata": {
        "colab": {
          "base_uri": "https://localhost:8080/",
          "height": 0
        },
        "id": "BorIcx3QAuvs",
        "outputId": "5b37d212-d4d0-4bd4-ea9c-5fbd4a54831b"
      },
      "execution_count": 3,
      "outputs": [
        {
          "output_type": "stream",
          "name": "stdout",
          "text": [
            "(1000, 21)\n"
          ]
        }
      ]
    },
    {
      "cell_type": "code",
      "source": [
        "# Extracting the feature data from the DataFrame 'cred_data'.\n",
        "X=cred_data.iloc[:,:-1].values\n",
        "\n",
        "# Extracting the target or label data from the DataFrame 'cred_data'.\n",
        "Y=cred_data.iloc[:,-1].values\n"
      ],
      "metadata": {
        "id": "5FENFuewsHZ2"
      },
      "execution_count": 4,
      "outputs": []
    },
    {
      "cell_type": "code",
      "source": [
        "# Defining a custom train_test_split function\n",
        "def custom_train_test_split(X, Y, test_size=0.25, random_state=None, shuffle=True):\n",
        "    if random_state is not None:\n",
        "        np.random.seed(random_state)\n",
        "\n",
        "    # Determining the number of samples for our test set\n",
        "    num_test_samples = int(len(X) * test_size)\n",
        "\n",
        "    if shuffle:\n",
        "        # Shuffling the data randomly\n",
        "        indices = np.arange(len(X))\n",
        "        np.random.shuffle(indices)\n",
        "        X = X[indices]\n",
        "        Y = Y[indices]\n",
        "\n",
        "    # Spliting the data into training and test sets\n",
        "    X_train, X_test = X[:-num_test_samples], X[-num_test_samples:]\n",
        "    y_train, y_test = Y[:-num_test_samples], Y[-num_test_samples:]\n",
        "\n",
        "    return X_train, X_test, y_train, y_test\n",
        "\n",
        "# Spliting the data using custom function\n",
        "X_train, X_test, y_train, y_test = custom_train_test_split(X, Y, random_state=2120, test_size=0.25, shuffle=True)\n"
      ],
      "metadata": {
        "id": "EdAdmPkLr-2L"
      },
      "execution_count": 5,
      "outputs": []
    },
    {
      "cell_type": "code",
      "source": [
        "print(y_train)"
      ],
      "metadata": {
        "colab": {
          "base_uri": "https://localhost:8080/",
          "height": 0
        },
        "id": "hGCHRd7LB-4w",
        "outputId": "d8cbe283-9aa3-4c4a-b34f-7418fe7e096c"
      },
      "execution_count": 6,
      "outputs": [
        {
          "output_type": "stream",
          "name": "stdout",
          "text": [
            "[2 1 1 1 2 2 1 1 2 1 1 1 1 1 1 2 1 1 1 1 1 1 1 1 1 2 1 1 1 2 2 1 2 1 1 2 1\n",
            " 1 1 1 1 1 2 1 1 2 1 2 2 1 2 1 1 1 1 1 2 2 2 1 2 1 1 1 2 1 1 2 2 2 1 1 2 1\n",
            " 1 1 2 2 1 2 2 2 1 1 1 1 1 1 1 2 2 1 2 1 2 2 2 1 2 1 1 1 1 2 2 1 2 1 2 1 2\n",
            " 1 2 1 2 2 1 1 1 1 1 1 1 2 1 1 2 1 2 1 1 1 1 1 1 2 1 1 1 1 1 1 1 1 2 1 1 2\n",
            " 1 1 1 1 2 2 2 2 2 1 1 1 2 1 1 1 1 2 1 1 1 1 2 1 1 2 2 2 2 1 1 1 1 1 1 1 2\n",
            " 1 2 1 1 1 1 2 1 1 1 1 2 1 2 2 1 1 1 1 1 2 1 1 1 1 1 2 1 1 1 1 2 1 1 1 1 2\n",
            " 2 1 1 2 1 1 1 1 1 1 1 1 2 1 1 2 2 1 1 1 2 1 1 2 1 1 1 1 2 2 1 1 2 1 1 1 1\n",
            " 1 1 1 2 1 2 1 1 1 1 1 1 2 1 2 1 1 1 2 1 1 1 2 1 1 1 1 1 1 2 2 1 2 1 1 2 1\n",
            " 2 2 1 1 1 1 1 1 2 1 1 2 1 1 1 1 1 1 2 1 2 2 1 2 1 2 1 1 1 2 2 1 2 1 2 1 1\n",
            " 1 2 1 1 2 1 2 1 1 1 2 1 2 1 1 1 1 2 2 2 1 1 2 1 1 1 2 2 2 1 1 1 1 1 1 1 1\n",
            " 1 1 1 1 1 2 1 1 1 1 2 2 1 1 1 1 1 2 1 1 2 1 2 1 1 1 1 2 2 1 1 1 1 1 1 1 1\n",
            " 1 1 1 1 1 1 1 1 1 1 2 1 1 1 1 1 1 1 1 1 1 1 1 1 1 2 1 2 2 1 1 1 2 1 2 2 1\n",
            " 1 1 1 2 1 2 1 1 1 2 1 2 2 2 1 2 1 2 2 1 2 1 2 1 1 1 1 1 1 1 2 1 2 1 1 1 1\n",
            " 1 1 2 1 1 1 1 1 1 2 1 1 1 1 1 1 1 1 1 2 2 1 1 1 2 1 1 1 2 1 1 1 1 2 1 1 2\n",
            " 1 1 1 1 1 1 2 2 1 2 1 1 1 1 1 2 2 2 2 1 1 2 1 1 1 1 1 1 2 2 2 1 2 2 2 1 1\n",
            " 2 1 1 2 1 1 2 1 1 1 1 1 1 2 1 1 1 2 1 1 1 2 1 1 2 2 2 1 1 2 1 1 2 1 1 1 2\n",
            " 1 2 1 1 2 1 2 1 1 1 2 1 1 1 1 2 1 2 2 1 1 2 1 1 1 2 2 2 1 1 1 2 1 1 1 1 2\n",
            " 1 2 1 1 2 1 1 2 1 1 1 2 1 2 1 1 1 1 1 1 1 1 1 1 2 2 2 1 1 1 1 2 1 1 1 1 1\n",
            " 2 1 1 2 1 1 1 2 1 1 1 1 1 2 1 2 1 2 1 2 1 1 1 2 1 2 2 1 2 2 2 2 1 2 1 1 1\n",
            " 2 1 1 1 1 2 1 1 1 1 1 1 1 1 1 2 2 2 1 2 1 1 1 1 1 2 2 2 1 1 1 2 1 1 1 1 1\n",
            " 2 2 1 1 1 2 1 2 1 1]\n"
          ]
        }
      ]
    },
    {
      "cell_type": "code",
      "source": [
        "#Discretizing some of the continuous features values using equal width binning\n",
        "\n",
        "def discretize_feature_with_ranges(array, feature_index, num_buckets):\n",
        "    # Extract the specified feature column\n",
        "    feature_column = array[:, feature_index]\n",
        "\n",
        "    # Calculate the bin edges for equal-width binning\n",
        "    bin_edges = np.linspace(min(feature_column), max(feature_column), num=num_buckets+1)\n",
        "\n",
        "    # Perform binning using digitize\n",
        "    digitized_feature = np.digitize(feature_column, bin_edges, right=True)\n",
        "\n",
        "    # Replace the feature column with the discretized values\n",
        "    array[:, feature_index] = digitized_feature\n",
        "\n",
        "    # Calculate and print the ranges in each assigned bucket\n",
        "    ranges_in_buckets = []\n",
        "    for i in range(1, num_buckets + 1):\n",
        "        bucket_range = (bin_edges[i - 1], bin_edges[i])\n",
        "        ranges_in_buckets.append(bucket_range)\n",
        "        print(f\"Bucket {i}: {bucket_range}\")\n",
        "\n"
      ],
      "metadata": {
        "id": "bR9GCmCve76p"
      },
      "execution_count": 7,
      "outputs": []
    },
    {
      "cell_type": "code",
      "source": [
        "discretize_feature_with_ranges(X_train, 1, 6)"
      ],
      "metadata": {
        "colab": {
          "base_uri": "https://localhost:8080/",
          "height": 0
        },
        "id": "nINPuC-mfFQs",
        "outputId": "4f608ed1-8c4c-4d97-9aed-dc8d56cf7ca4"
      },
      "execution_count": 8,
      "outputs": [
        {
          "output_type": "stream",
          "name": "stdout",
          "text": [
            "Bucket 1: (4.0, 13.333333333333334)\n",
            "Bucket 2: (13.333333333333334, 22.666666666666668)\n",
            "Bucket 3: (22.666666666666668, 32.0)\n",
            "Bucket 4: (32.0, 41.333333333333336)\n",
            "Bucket 5: (41.333333333333336, 50.66666666666667)\n",
            "Bucket 6: (50.66666666666667, 60.0)\n"
          ]
        }
      ]
    },
    {
      "cell_type": "code",
      "source": [
        "discretize_feature_with_ranges(X_train, 4, 6)"
      ],
      "metadata": {
        "colab": {
          "base_uri": "https://localhost:8080/",
          "height": 0
        },
        "id": "oatSVEhThPkR",
        "outputId": "f4113087-86f2-46a2-b30c-d7986a2c4cf2"
      },
      "execution_count": 9,
      "outputs": [
        {
          "output_type": "stream",
          "name": "stdout",
          "text": [
            "Bucket 1: (276.0, 3300.6666666666665)\n",
            "Bucket 2: (3300.6666666666665, 6325.333333333333)\n",
            "Bucket 3: (6325.333333333333, 9350.0)\n",
            "Bucket 4: (9350.0, 12374.666666666666)\n",
            "Bucket 5: (12374.666666666666, 15399.333333333332)\n",
            "Bucket 6: (15399.333333333332, 18424.0)\n"
          ]
        }
      ]
    },
    {
      "cell_type": "code",
      "source": [
        "discretize_feature_with_ranges(X_train, 12, 6)"
      ],
      "metadata": {
        "colab": {
          "base_uri": "https://localhost:8080/",
          "height": 0
        },
        "id": "AWWPZyDPhqgv",
        "outputId": "265c92e8-78ed-4f80-bec3-5ef8386a2a08"
      },
      "execution_count": 10,
      "outputs": [
        {
          "output_type": "stream",
          "name": "stdout",
          "text": [
            "Bucket 1: (19.0, 28.166666666666664)\n",
            "Bucket 2: (28.166666666666664, 37.33333333333333)\n",
            "Bucket 3: (37.33333333333333, 46.5)\n",
            "Bucket 4: (46.5, 55.666666666666664)\n",
            "Bucket 5: (55.666666666666664, 64.83333333333333)\n",
            "Bucket 6: (64.83333333333333, 74.0)\n"
          ]
        }
      ]
    },
    {
      "cell_type": "code",
      "source": [
        "discretize_feature_with_ranges(X_test, 1, 6)"
      ],
      "metadata": {
        "colab": {
          "base_uri": "https://localhost:8080/",
          "height": 0
        },
        "id": "3jwQslIrlh0x",
        "outputId": "d157b403-bb4c-44a3-bee8-ce2642537f2e"
      },
      "execution_count": 11,
      "outputs": [
        {
          "output_type": "stream",
          "name": "stdout",
          "text": [
            "Bucket 1: (4.0, 15.333333333333334)\n",
            "Bucket 2: (15.333333333333334, 26.666666666666668)\n",
            "Bucket 3: (26.666666666666668, 38.0)\n",
            "Bucket 4: (38.0, 49.333333333333336)\n",
            "Bucket 5: (49.333333333333336, 60.66666666666667)\n",
            "Bucket 6: (60.66666666666667, 72.0)\n"
          ]
        }
      ]
    },
    {
      "cell_type": "code",
      "source": [
        "discretize_feature_with_ranges(X_test, 4, 6)"
      ],
      "metadata": {
        "colab": {
          "base_uri": "https://localhost:8080/",
          "height": 0
        },
        "id": "NAktxpKRlzWB",
        "outputId": "c5729fdb-9ca6-4b46-c4a0-485c33e5a48b"
      },
      "execution_count": 12,
      "outputs": [
        {
          "output_type": "stream",
          "name": "stdout",
          "text": [
            "Bucket 1: (250.0, 2865.8333333333335)\n",
            "Bucket 2: (2865.8333333333335, 5481.666666666667)\n",
            "Bucket 3: (5481.666666666667, 8097.5)\n",
            "Bucket 4: (8097.5, 10713.333333333334)\n",
            "Bucket 5: (10713.333333333334, 13329.166666666668)\n",
            "Bucket 6: (13329.166666666668, 15945.0)\n"
          ]
        }
      ]
    },
    {
      "cell_type": "code",
      "source": [
        "discretize_feature_with_ranges(X_test, 12, 6)"
      ],
      "metadata": {
        "colab": {
          "base_uri": "https://localhost:8080/",
          "height": 0
        },
        "id": "4S6obe3il0JT",
        "outputId": "ce8ce357-2bd9-4033-da66-52629506afdd"
      },
      "execution_count": 13,
      "outputs": [
        {
          "output_type": "stream",
          "name": "stdout",
          "text": [
            "Bucket 1: (19.0, 28.333333333333336)\n",
            "Bucket 2: (28.333333333333336, 37.66666666666667)\n",
            "Bucket 3: (37.66666666666667, 47.0)\n",
            "Bucket 4: (47.0, 56.333333333333336)\n",
            "Bucket 5: (56.333333333333336, 65.66666666666667)\n",
            "Bucket 6: (65.66666666666667, 75.0)\n"
          ]
        }
      ]
    },
    {
      "cell_type": "code",
      "source": [
        "def calculate_confusion_matrix(actual, predicted, num_classes):\n",
        "    cm = np.zeros((num_classes, num_classes), dtype=int)\n",
        "\n",
        "    for a, p in zip(actual, predicted):\n",
        "        cm[a-1][p-1] += 1\n",
        "\n",
        "    return cm"
      ],
      "metadata": {
        "id": "3_G-08-RrbRC"
      },
      "execution_count": 14,
      "outputs": []
    },
    {
      "cell_type": "code",
      "source": [
        "def plot_confusion_matrix(cm, classes):\n",
        "    plt.imshow(cm, interpolation='nearest', cmap=plt.cm.Blues)\n",
        "    plt.title('Confusion Matrix')\n",
        "    plt.colorbar()\n",
        "\n",
        "    tick_marks = np.arange(len(classes))\n",
        "    plt.xticks(tick_marks, classes, rotation=45)\n",
        "    plt.yticks(tick_marks, classes)\n",
        "\n",
        "    plt.xlabel('Predicted Label')\n",
        "    plt.ylabel('True Label')\n",
        "\n",
        "    for i in range(len(classes)):\n",
        "        for j in range(len(classes)):\n",
        "            plt.text(j, i, str(cm[i][j]), ha='center', va='center', color='w')\n",
        "\n",
        "    plt.show()\n",
        "\n"
      ],
      "metadata": {
        "id": "CvezUtsYrffD"
      },
      "execution_count": 15,
      "outputs": []
    },
    {
      "cell_type": "markdown",
      "source": [
        "# ***2. ML Model 1***"
      ],
      "metadata": {
        "id": "rDu7bwbNRhaK"
      }
    },
    {
      "cell_type": "markdown",
      "source": [
        "### **NAIVE BAYE'S CLASSIFICATION**"
      ],
      "metadata": {
        "id": "v_lSoq7xkB2e"
      }
    },
    {
      "cell_type": "markdown",
      "source": [
        "Naive Bayes classification is a probabilistic machine learning technique that uses the Bayesian probability theory, specifically designed for classification tasks. The fundamental concept behind Naive Bayes is the application of Bayes' theorem with the \"naive\" assumption that features are conditionally independent given the class label. This independence assumption simplifies the computation of the probability of a particular class given a set of feature values. Naive Bayes models are commonly used in natural language processing, spam filtering, and other classification tasks. The simplicity and speed of Naive Bayes make it a popular choice for real-world applications, especially when dealing with large datasets."
      ],
      "metadata": {
        "id": "NWmcaucz3890"
      }
    },
    {
      "cell_type": "code",
      "source": [
        "def numberOf_customer(custClass):\n",
        "    ans = 0\n",
        "\n",
        "    # Count occurrences of custClass in y_train\n",
        "    for i in range(len(y_train)):\n",
        "        if y_train[i] == custClass:\n",
        "            ans = ans + 1\n",
        "\n",
        "    return ans\n"
      ],
      "metadata": {
        "id": "cNun7ABa6IdS"
      },
      "execution_count": 16,
      "outputs": []
    },
    {
      "cell_type": "code",
      "source": [
        "def P_feature_given_customer(index, feature, custClass):\n",
        "    number_of_feature = 0\n",
        "\n",
        "    # Count occurrences of feature for the given custClass in X_train and y_train\n",
        "    for i in range(len(X_train)):\n",
        "        if (X_train[i][index] == feature) and (y_train[i] == custClass):\n",
        "            number_of_feature = number_of_feature + 1\n",
        "\n",
        "    # Calculate conditional probability P(feature | custClass)\n",
        "    prob = number_of_feature / numberOf_customer(custClass)\n",
        "\n",
        "    return prob\n"
      ],
      "metadata": {
        "id": "0dF0F7C31M_3"
      },
      "execution_count": 17,
      "outputs": []
    },
    {
      "cell_type": "code",
      "source": [
        "def probability(X, custClass):\n",
        "    # Calculate prior probability P(Customer)\n",
        "    P_Customer = numberOf_customer(custClass) / len(y_train)\n",
        "\n",
        "    # Initialize conditional probability P(tuple | Customer)\n",
        "    P_tuple_given_customer = 1\n",
        "\n",
        "    # Calculate conditional probability for each feature in X\n",
        "    for i in range(len(X_train[0])):\n",
        "        P_tuple_given_customer *= P_feature_given_customer(i, X[i], custClass)\n",
        "\n",
        "    # Calculate and return the total probability\n",
        "    return P_tuple_given_customer * P_Customer\n"
      ],
      "metadata": {
        "id": "KjvyidZDqG-o"
      },
      "execution_count": 18,
      "outputs": []
    },
    {
      "cell_type": "code",
      "source": [
        "def naive_bayes(X):\n",
        "    # Calculate probabilities for good and bad customers given the tuple X\n",
        "    P_goodCustomer_given_tuple = probability(X, 1)\n",
        "    P_badCustomer_given_tuple = probability(X, 2)\n",
        "\n",
        "    # Determine the predicted class based on probabilities\n",
        "    if P_goodCustomer_given_tuple > P_badCustomer_given_tuple:\n",
        "        return 1\n",
        "    else:\n",
        "        return 2\n"
      ],
      "metadata": {
        "id": "oAd4cNwERr90"
      },
      "execution_count": 19,
      "outputs": []
    },
    {
      "cell_type": "code",
      "source": [
        "accuracy = 0\n",
        "\n",
        "# Iterate through the test set to make predictions and calculate accuracy\n",
        "for i in range(len(X_test)):\n",
        "    pred = naive_bayes(X_test[i])  # Make prediction for the current sample\n",
        "    actual = y_test[i]  # Get the actual label\n",
        "\n",
        "    # Check if prediction matches the actual label and update accuracy count\n",
        "    if pred == actual:\n",
        "        accuracy = accuracy + 1\n",
        "\n",
        "# Calculate and print the accuracy percentage\n",
        "accuracy = accuracy / len(y_test)\n",
        "print(f\"Accuracy: {accuracy * 100}%\")\n"
      ],
      "metadata": {
        "colab": {
          "base_uri": "https://localhost:8080/",
          "height": 0
        },
        "id": "WWc9f_CmHVuJ",
        "outputId": "067a671a-58df-4283-9fbf-4027690fc436"
      },
      "execution_count": 20,
      "outputs": [
        {
          "output_type": "stream",
          "name": "stdout",
          "text": [
            "Accuracy: 74.8%\n"
          ]
        }
      ]
    },
    {
      "cell_type": "code",
      "source": [
        "# Assuming y_test and y_pred are your actual and predicted labels\n",
        "# num_classes is the total number of classes in your classification\n",
        "num_classes = 2\n",
        "y_test = np.array(y_test)\n",
        "y_pred = np.array([naive_bayes(X) for X in X_test])\n",
        "\n",
        "# Calculate the confusion matrix\n",
        "conf_matrix = calculate_confusion_matrix(y_test, y_pred, num_classes)\n",
        "\n",
        "# Plot the confusion matrix\n",
        "classes = ['Good Customer', 'Bad Customer']\n",
        "plot_confusion_matrix(conf_matrix, classes)"
      ],
      "metadata": {
        "colab": {
          "base_uri": "https://localhost:8080/",
          "height": 544
        },
        "id": "S8BOGfH-sGbc",
        "outputId": "6d4ea0d7-1374-44cf-9f90-23cab5642241"
      },
      "execution_count": 21,
      "outputs": [
        {
          "output_type": "display_data",
          "data": {
            "text/plain": [
              "<Figure size 640x480 with 2 Axes>"
            ],
            "image/png": "[encoded data removed]"
          },
          "metadata": {}
        }
      ]
    },
    {
      "cell_type": "markdown",
      "source": [
        "# ***3. ML Model 2***\n",
        "\n"
      ],
      "metadata": {
        "id": "y81SQxOrRso5"
      }
    },
    {
      "cell_type": "markdown",
      "source": [
        "### **RANDOM FOREST**"
      ],
      "metadata": {
        "id": "QYWEnanuF62y"
      }
    },
    {
      "cell_type": "code",
      "source": [
        "X_testF=X_test\n",
        "X_trainF=X_train"
      ],
      "metadata": {
        "id": "s5g60otDymfD"
      },
      "execution_count": 22,
      "outputs": []
    },
    {
      "cell_type": "code",
      "source": [
        "# import numpy as np\n",
        "from collections import Counter\n",
        "\n",
        "class Node:\n",
        "    def __init__(self, feature=None, threshold=None, value=None, left=None, right=None, category=None):\n",
        "        self.feature = feature\n",
        "        self.threshold = threshold\n",
        "        self.value = value\n",
        "        self.left = left\n",
        "        self.right = right\n",
        "        self.category = category\n",
        "\n",
        "    def is_leaf_node(self):\n",
        "        return self.value is not None\n",
        "\n",
        "class DecisionTree:\n",
        "    def __init__(self, min_samples_split=2, max_depth=100, n_features=None):\n",
        "        self.min_samples_split = min_samples_split\n",
        "        self.max_depth = max_depth\n",
        "        self.n_features = n_features\n",
        "        self.root = None\n",
        "\n",
        "    def fit(self, X, y):\n",
        "        self.n_features = X.shape[1] if not self.n_features else min(X.shape[1], self.n_features)\n",
        "        self.root = self._grow_tree(X, y)\n",
        "\n",
        "    def _grow_tree(self, X, y, depth=0):\n",
        "        n_samples, n_feats = X.shape\n",
        "        n_labels = len(np.unique(y))\n",
        "\n",
        "        if (depth >= self.max_depth or n_labels == 1 or n_samples < self.min_samples_split):\n",
        "            leaf_value = self._most_common_label(y)\n",
        "            return Node(value=leaf_value)\n",
        "\n",
        "        feat_idxs = np.random.choice(n_feats, self.n_features, replace=False)\n",
        "\n",
        "        best_feature, best_thresh, is_categorical = self._best_split(X, y, feat_idxs)\n",
        "\n",
        "        if is_categorical:\n",
        "            left_mask = X[:, best_feature] == best_thresh\n",
        "            right_mask = ~left_mask\n",
        "        else:\n",
        "            left_mask = X[:, best_feature] <= best_thresh\n",
        "            right_mask = ~left_mask\n",
        "\n",
        "        left = self._grow_tree(X[left_mask, :], y[left_mask], depth + 1)\n",
        "        right = self._grow_tree(X[right_mask, :], y[right_mask], depth + 1)\n",
        "\n",
        "        return Node(best_feature, best_thresh, left=left, right=right, category=is_categorical)\n",
        "\n",
        "    def _best_split(self, X, y, feat_idxs):\n",
        "        best_gain = -1\n",
        "        split_idx, split_threshold, is_categorical = None, None, None\n",
        "\n",
        "        for feat_idx in feat_idxs:\n",
        "            unique_values = np.unique(X[:, feat_idx])\n",
        "\n",
        "            for val in unique_values:\n",
        "                gain = self._information_gain(y, X[:, feat_idx], val)\n",
        "\n",
        "                if gain > best_gain:\n",
        "                    best_gain = gain\n",
        "                    split_idx = feat_idx\n",
        "                    split_threshold = val\n",
        "                    is_categorical = True if isinstance(val, (str, np.str_)) else False\n",
        "\n",
        "        return split_idx, split_threshold, is_categorical\n",
        "\n",
        "    def _information_gain(self, y, X_column, threshold):\n",
        "        parent_gini = self._gini(y)\n",
        "\n",
        "        left_idxs, right_idxs = self._split(X_column, threshold)\n",
        "\n",
        "        if len(left_idxs) == 0 or len(right_idxs) == 0:\n",
        "            return 0\n",
        "\n",
        "        n = len(y)\n",
        "        n_l, n_r = len(left_idxs), len(right_idxs)\n",
        "        g_l, g_r = self._gini(y[left_idxs]), self._gini(y[right_idxs])\n",
        "        child_gini = (n_l / n) * g_l + (n_r / n) * g_r\n",
        "\n",
        "        information_gain = parent_gini - child_gini\n",
        "        return information_gain\n",
        "\n",
        "    def _split(self, X_column, split_thresh):\n",
        "        left_idxs = np.argwhere(X_column <= split_thresh).flatten()\n",
        "        right_idxs = np.argwhere(X_column > split_thresh).flatten()\n",
        "        return left_idxs, right_idxs\n",
        "\n",
        "    def _gini(self, y):\n",
        "        hist = np.bincount(y)\n",
        "        ps = hist / len(y)\n",
        "        gini = 1 - np.sum(np.square(ps))\n",
        "        return gini\n",
        "\n",
        "    def _most_common_label(self, y):\n",
        "        counter = Counter(y)\n",
        "        value = counter.most_common(1)[0][0]\n",
        "        return value\n",
        "\n",
        "    def predict(self, X):\n",
        "        return np.array([self._traverse_tree(x, self.root) for x in X])\n",
        "\n",
        "    def _traverse_tree(self, x, node):\n",
        "        if node.is_leaf_node():\n",
        "            return node.value\n",
        "\n",
        "        if node.category:\n",
        "            if x[node.feature] == node.threshold:\n",
        "                return self._traverse_tree(x, node.left)\n",
        "            else:\n",
        "                return self._traverse_tree(x, node.right)\n",
        "        else:\n",
        "            if x[node.feature] <= node.threshold:\n",
        "                return self._traverse_tree(x, node.left)\n",
        "            else:\n",
        "                return self._traverse_tree(x, node.right)"
      ],
      "metadata": {
        "id": "OQ8CVHsER-Mh"
      },
      "execution_count": 23,
      "outputs": []
    },
    {
      "cell_type": "code",
      "source": [
        "tree = DecisionTree(min_samples_split=12, max_depth=5, n_features=None)\n",
        "tree.fit(X_trainF, y_train)\n",
        "predictions = tree.predict(X_testF)\n",
        "correct_predictions = sum(predictions == y_test)\n",
        "total_samples = len(y_test)\n",
        "accuracy = correct_predictions / total_samples\n",
        "\n",
        "print(f\"Decision Tree Accuracy: {accuracy * 100:.2f}%\")"
      ],
      "metadata": {
        "colab": {
          "base_uri": "https://localhost:8080/",
          "height": 0
        },
        "id": "7Nk8qeZ4yPq4",
        "outputId": "9ab29c1a-014b-4dcc-8d5e-045732fdc7a1"
      },
      "execution_count": 24,
      "outputs": [
        {
          "output_type": "stream",
          "name": "stdout",
          "text": [
            "Decision Tree Accuracy: 73.20%\n"
          ]
        }
      ]
    },
    {
      "cell_type": "code",
      "source": [
        "X_testF=X_test\n",
        "X_trainF=X_train"
      ],
      "metadata": {
        "id": "zjNKrEJx2sfs"
      },
      "execution_count": 25,
      "outputs": []
    },
    {
      "cell_type": "code",
      "source": [
        "import numpy as np\n",
        "\n",
        "class RandomForest:\n",
        "    def __init__(self, n_trees=4, bootstrap_size=None, **tree_params):\n",
        "        self.n_trees = n_trees\n",
        "        self.bootstrap_size = bootstrap_size\n",
        "        self.tree_params = tree_params\n",
        "        self.trees = []\n",
        "\n",
        "    def fit(self, X, y):\n",
        "        for _ in range(self.n_trees):\n",
        "            tree = DecisionTree(**self.tree_params)\n",
        "            # Randomly sample with replacement for each tree\n",
        "            sample_indices = np.random.choice(len(X), size=self.bootstrap_size, replace=True)\n",
        "            X_sampled, y_sampled = X[sample_indices], y[sample_indices]\n",
        "            tree.fit(X_sampled, y_sampled)\n",
        "            self.trees.append(tree)\n",
        "\n",
        "    def predict(self, X):\n",
        "        # Make predictions for each tree and take a majority vote\n",
        "        predictions = np.array([tree.predict(X) for tree in self.trees])\n",
        "        # Use the mode function to get the most common prediction for each sample\n",
        "        mode_predictions = np.apply_along_axis(lambda x: np.bincount(x).argmax(), axis=0, arr=predictions)\n",
        "        return mode_predictions\n",
        "\n",
        "# Instantiate the RandomForest class with 4 trees and a bootstrap size of 90% of the training data\n",
        "random_forest = RandomForest(n_trees=15, bootstrap_size=int(0.9* len(X_train)), min_samples_split=10, max_depth=6, n_features=None)\n",
        "\n",
        "# Training the random forest\n",
        "random_forest.fit(X_train, y_train)\n",
        "\n",
        "# Make predictions on the test set\n",
        "predictions = random_forest.predict(X_test)\n",
        "\n",
        "# Calculate accuracy\n",
        "correct_predictions = sum(predictions == y_test)\n",
        "total_samples = len(y_test)\n",
        "accuracy = correct_predictions / total_samples\n",
        "\n",
        "print(f\"Random Forest Accuracy: {accuracy * 100:.2f}%\")"
      ],
      "metadata": {
        "colab": {
          "base_uri": "https://localhost:8080/",
          "height": 0
        },
        "id": "JOOabx-7yVgU",
        "outputId": "aa675b10-079b-427a-e0cc-8d152beed3dc"
      },
      "execution_count": 26,
      "outputs": [
        {
          "output_type": "stream",
          "name": "stdout",
          "text": [
            "Random Forest Accuracy: 78.40%\n"
          ]
        }
      ]
    },
    {
      "cell_type": "code",
      "source": [
        "import numpy as np\n",
        "import matplotlib.pyplot as plt\n",
        "\n",
        "def confusion_matrix(y_true, y_pred):\n",
        "    unique_classes = np.unique(np.concatenate((y_true, y_pred)))\n",
        "    n_classes = len(unique_classes)\n",
        "    cm = np.zeros((n_classes, n_classes), dtype=int)\n",
        "\n",
        "    for true, pred in zip(y_true, y_pred):\n",
        "        cm[true-1, pred-1] += 1\n",
        "\n",
        "    return cm, unique_classes\n",
        "\n",
        "def plot_confusion_matrix(cm, classes):\n",
        "    plt.figure(figsize=(8, 6))\n",
        "    plt.imshow(cm, interpolation='nearest', cmap=plt.cm.Blues)\n",
        "    plt.title('Confusion Matrix')\n",
        "    plt.colorbar()\n",
        "    tick_marks = np.arange(len(classes))\n",
        "    plt.xticks(tick_marks, classes)\n",
        "    plt.yticks(tick_marks, classes)\n",
        "\n",
        "    for i in range(len(classes)):\n",
        "        for j in range(len(classes)):\n",
        "            plt.text(j, i, str(cm[i, j]), ha='center', va='center', color='black')\n",
        "\n",
        "    plt.tight_layout()\n",
        "    plt.xlabel('Predicted label')\n",
        "    plt.ylabel('True label')\n",
        "    plt.show()\n",
        "\n",
        "# Assuming y_test and predictions contain the ground truth and predicted labels\n",
        "# Calculate confusion matrix and get unique classes\n",
        "cm, classes = confusion_matrix(y_test, predictions)\n",
        "\n",
        "# Plot the confusion matrix\n",
        "plot_confusion_matrix(cm, classes)\n"
      ],
      "metadata": {
        "colab": {
          "base_uri": "https://localhost:8080/",
          "height": 626
        },
        "id": "EUeyK_iB3qUJ",
        "outputId": "fc45f786-e122-4c52-a781-6efb680421a4"
      },
      "execution_count": 27,
      "outputs": [
        {
          "output_type": "display_data",
          "data": {
            "text/plain": [
              "<Figure size 800x600 with 2 Axes>"
            ],
            "image/png": "[encoded data removed]"
          },
          "metadata": {}
        }
      ]
    },
    {
      "cell_type": "markdown",
      "source": [],
      "metadata": {
        "id": "HqIC34nWR-n7"
      }
    },
    {
      "cell_type": "markdown",
      "source": [
        "# ***4. ML Model 3 (Based on research literature)***"
      ],
      "metadata": {
        "id": "8g7NxS5sSCRv"
      }
    },
    {
      "cell_type": "markdown",
      "source": [
        "### **ARTIFICAL NEURAL NETWORK**"
      ],
      "metadata": {
        "id": "z-U6SL3HGdxN"
      }
    },
    {
      "cell_type": "markdown",
      "source": [
        "Artificial Neural Networks (ANNs) are a class of machine learning models inspired by the structure and functioning of the human brain. Comprising interconnected nodes, or artificial neurons, organized into layers, ANNs are designed to learn and make predictions from data. Information is processed through the network by adjusting the strengths of connections (weights) between neurons during a training phase. ANNs can handle complex relationships and patterns in data, making them particularly effective for tasks such as image and speech recognition, natural language processing, and various other applications. Deep learning, a subfield of machine learning, has gained prominence with the development of deep neural networks, which involve multiple hidden layers, enabling the extraction of hierarchical features from input data. Despite their powerful capabilities, the training of ANNs requires substantial computational resources, and the interpretability of their decision-making process can be challenging. ANNs continue to be at the forefront of advancements in artificial intelligence, contributing to breakthroughs in various DOMAINS"
      ],
      "metadata": {
        "id": "n8dz4k1n_Q2p"
      }
    },
    {
      "cell_type": "code",
      "source": [
        "def one_hot_encode_all_features(data):\n",
        "    # Apply one-hot encoding to the entire DataFrame\n",
        "    encoded_data = pd.get_dummies(pd.DataFrame(data), dtype=int)\n",
        "\n",
        "    # Transpose the encoded data and return values\n",
        "    return encoded_data.values\n"
      ],
      "metadata": {
        "id": "ArlR93lkRqwn"
      },
      "execution_count": 28,
      "outputs": []
    },
    {
      "cell_type": "code",
      "source": [
        "# Encode features for the training data\n",
        "X_trainN = one_hot_encode_all_features(X_train).T\n",
        "\n",
        "# Encode features for the testing data\n",
        "X_testN = one_hot_encode_all_features(X_test).T\n"
      ],
      "metadata": {
        "id": "Pw63z3amSSo_"
      },
      "execution_count": 29,
      "outputs": []
    },
    {
      "cell_type": "code",
      "source": [
        "# Get the shape of the encoded training data\n",
        "c, r = X_trainN.shape\n",
        "\n",
        "# Print the shape values (rows and columns)\n",
        "print(c, \",\", r)\n"
      ],
      "metadata": {
        "colab": {
          "base_uri": "https://localhost:8080/",
          "height": 0
        },
        "id": "WwJH7U0KVZIL",
        "outputId": "4d3e8b35-60d3-4d0c-b73f-dec908ce215f"
      },
      "execution_count": 30,
      "outputs": [
        {
          "output_type": "stream",
          "name": "stdout",
          "text": [
            "89 , 750\n"
          ]
        }
      ]
    },
    {
      "cell_type": "code",
      "source": [
        "def init_params():\n",
        "    # Initialize parameters W1, b1, W2, b2 with random values\n",
        "    W1 = np.random.rand(6, c)  # Shape: (6, c)\n",
        "    b1 = np.random.rand(6, 1)  # Shape: (6, 1)\n",
        "    W2 = np.random.rand(2, 6)  # Shape: (2, 6)\n",
        "    b2 = np.random.rand(2, 1)  # Shape: (2, 1)\n",
        "\n",
        "    # Return the initialized parameters\n",
        "    return W1, b1, W2, b2\n"
      ],
      "metadata": {
        "id": "iuYfzw0uSZsj"
      },
      "execution_count": 31,
      "outputs": []
    },
    {
      "cell_type": "code",
      "source": [
        "def ReLU(Z):\n",
        "    # Apply ReLU activation function element-wise\n",
        "    return np.maximum(Z, 0)\n"
      ],
      "metadata": {
        "id": "uEJLCMfbXkJ0"
      },
      "execution_count": 32,
      "outputs": []
    },
    {
      "cell_type": "code",
      "source": [
        "def softmax(Z):\n",
        "    # Compute softmax activation function\n",
        "    numerator = np.exp(Z)\n",
        "    denominator = np.sum(np.exp(Z), axis=0)\n",
        "\n",
        "    # Calculate softmax output\n",
        "    A = numerator / denominator\n",
        "\n",
        "    return A\n"
      ],
      "metadata": {
        "id": "FBjnCBQcXs6b"
      },
      "execution_count": 33,
      "outputs": []
    },
    {
      "cell_type": "code",
      "source": [
        "def forward_prop(W1, b1, W2, b2, X):\n",
        "    # Calculate the first layer values\n",
        "    Z1 = W1.dot(X) + b1\n",
        "    A1 = ReLU(Z1)\n",
        "\n",
        "    # Calculate the second layer values\n",
        "    Z2 = W2.dot(A1) + b2\n",
        "    A2 = softmax(Z2)\n",
        "\n",
        "    # Return the intermediate and final values\n",
        "    return Z1, A1, Z2, A2\n"
      ],
      "metadata": {
        "id": "5E1K6l8mXwnf"
      },
      "execution_count": 34,
      "outputs": []
    },
    {
      "cell_type": "code",
      "source": [
        "def ReLU_deriv(Z):\n",
        "    # Derivative of ReLU activation function\n",
        "    return Z > 0\n"
      ],
      "metadata": {
        "id": "yMIhXZ0qX1YL"
      },
      "execution_count": 35,
      "outputs": []
    },
    {
      "cell_type": "code",
      "source": [
        "def one_hot(Y):\n",
        "    one_hot_Y = pd.get_dummies(Y).T\n",
        "    return one_hot_Y.values\n"
      ],
      "metadata": {
        "id": "QWlCiFMEbgFN"
      },
      "execution_count": 36,
      "outputs": []
    },
    {
      "cell_type": "code",
      "source": [
        "def backward_prop(Z1, A1, Z2, A2, W1, W2, X, Y):\n",
        "    # Perform one-hot encoding on Y\n",
        "    one_hot_Y = one_hot(Y)\n",
        "\n",
        "    # Calculate derivatives for the output layer\n",
        "    dZ2 = A2 - one_hot_Y\n",
        "    dW2 = 1 / r * dZ2.dot(A1.T)\n",
        "    db2 = 1 / r * np.sum(dZ2)\n",
        "\n",
        "    # Calculate derivatives for the hidden layer\n",
        "    dZ1 = W2.T.dot(dZ2) * ReLU_deriv(Z1)\n",
        "    dW1 = 1 / r * dZ1.dot(X.T)\n",
        "    db1 = 1 / r * np.sum(dZ1)\n",
        "\n",
        "    # Return the computed derivatives\n",
        "    return dW1, db1, dW2, db2\n"
      ],
      "metadata": {
        "id": "siSyTVYgYMJD"
      },
      "execution_count": 37,
      "outputs": []
    },
    {
      "cell_type": "code",
      "source": [
        "def update_params(W1, b1, W2, b2, dW1, db1, dW2, db2, alpha):\n",
        "    # Update weights and biases using gradient descent\n",
        "    W1 = W1 - alpha * dW1\n",
        "    b1 = b1 - alpha * db1\n",
        "    W2 = W2 - alpha * dW2\n",
        "    b2 = b2 - alpha * db2\n",
        "\n",
        "    # Return the updated parameters\n",
        "    return W1, b1, W2, b2\n"
      ],
      "metadata": {
        "id": "KvS5dUZMYWG9"
      },
      "execution_count": 38,
      "outputs": []
    },
    {
      "cell_type": "code",
      "source": [
        "def get_predictions(A2):\n",
        "    for i in range(len(A2[0])):\n",
        "        # Compare values to assign predictions\n",
        "        if A2[0][i] >= A2[1][i]:\n",
        "            A2[0][i] = 1\n",
        "            A2[1][i] = 0\n",
        "        else:\n",
        "            A2[0][i] = 0\n",
        "            A2[1][i] = 1\n",
        "\n",
        "    # Return the updated predictions\n",
        "    return A2"
      ],
      "metadata": {
        "id": "ln4zXSiRYg1O"
      },
      "execution_count": 39,
      "outputs": []
    },
    {
      "cell_type": "code",
      "source": [
        "def get_accuracy(predictions, Y):\n",
        "    # Convert Y to one-hot encoding\n",
        "    Y_N = one_hot(Y)\n",
        "\n",
        "    # Initialize count for correct predictions\n",
        "    count = 0\n",
        "\n",
        "    # Calculate accuracy by comparing predictions with one-hot encoded Y\n",
        "    for i in range(len(Y_N[0])):\n",
        "        if Y_N[1][i] == predictions[1][i]:\n",
        "            count += 1\n",
        "\n",
        "    # Return the calculated accuracy\n",
        "    return count / len(Y_N[0])\n"
      ],
      "metadata": {
        "id": "5B3Esg8ZYiTU"
      },
      "execution_count": 40,
      "outputs": []
    },
    {
      "cell_type": "code",
      "source": [
        "def gradient_descent(X, Y, alpha, iterations):\n",
        "    # Initialize parameters\n",
        "    W1, b1, W2, b2 = init_params()\n",
        "\n",
        "    # Iteratively update parameters\n",
        "    for i in range(iterations):\n",
        "        Z1, A1, Z2, A2 = forward_prop(W1, b1, W2, b2, X)\n",
        "        dW1, db1, dW2, db2 = backward_prop(Z1, A1, Z2, A2, W1, W2, X, Y)\n",
        "        W1, b1, W2, b2 = update_params(W1, b1, W2, b2, dW1, db1, dW2, db2, alpha)\n",
        "\n",
        "        # Print progress every 10 iterations\n",
        "        if i % 10 == 0:\n",
        "            print(f\"Iteration: {i}\")\n",
        "            predictions = get_predictions(A2)\n",
        "            accuracy = get_accuracy(predictions, Y) * 100\n",
        "            print(f\"Accuracy on training set: {accuracy}%\")\n",
        "\n",
        "    return W1, b1, W2, b2\n"
      ],
      "metadata": {
        "id": "hmaIdAQJYlec"
      },
      "execution_count": 41,
      "outputs": []
    },
    {
      "cell_type": "code",
      "source": [
        "print(one_hot(y_train))"
      ],
      "metadata": {
        "colab": {
          "base_uri": "https://localhost:8080/",
          "height": 0
        },
        "id": "UF5tjKQ69Wlm",
        "outputId": "ab231976-dbe9-4aa9-fd6b-247ad2dfff46"
      },
      "execution_count": 42,
      "outputs": [
        {
          "output_type": "stream",
          "name": "stdout",
          "text": [
            "[[0 1 1 ... 0 1 1]\n",
            " [1 0 0 ... 1 0 0]]\n"
          ]
        }
      ]
    },
    {
      "cell_type": "code",
      "source": [
        "# Train the neural network using gradient descent\n",
        "W1, b1, W2, b2 = gradient_descent(X_trainN, y_train, 0.1, 1000)"
      ],
      "metadata": {
        "colab": {
          "base_uri": "https://localhost:8080/",
          "height": 0
        },
        "id": "GxXOfIU2xWaa",
        "outputId": "d0c756d3-9c56-4a33-9d74-c077b88b8658"
      },
      "execution_count": 43,
      "outputs": [
        {
          "output_type": "stream",
          "name": "stdout",
          "text": [
            "Iteration: 0\n",
            "Accuracy on training set: 69.33333333333334%\n",
            "Iteration: 10\n",
            "Accuracy on training set: 35.733333333333334%\n",
            "Iteration: 20\n",
            "Accuracy on training set: 30.666666666666664%\n",
            "Iteration: 30\n",
            "Accuracy on training set: 69.33333333333334%\n",
            "Iteration: 40\n",
            "Accuracy on training set: 30.666666666666664%\n",
            "Iteration: 50\n",
            "Accuracy on training set: 69.33333333333334%\n",
            "Iteration: 60\n",
            "Accuracy on training set: 69.33333333333334%\n",
            "Iteration: 70\n",
            "Accuracy on training set: 69.33333333333334%\n",
            "Iteration: 80\n",
            "Accuracy on training set: 69.46666666666667%\n",
            "Iteration: 90\n",
            "Accuracy on training set: 69.86666666666666%\n",
            "Iteration: 100\n",
            "Accuracy on training set: 70.8%\n",
            "Iteration: 110\n",
            "Accuracy on training set: 70.39999999999999%\n",
            "Iteration: 120\n",
            "Accuracy on training set: 70.39999999999999%\n",
            "Iteration: 130\n",
            "Accuracy on training set: 70.39999999999999%\n",
            "Iteration: 140\n",
            "Accuracy on training set: 71.06666666666666%\n",
            "Iteration: 150\n",
            "Accuracy on training set: 70.39999999999999%\n",
            "Iteration: 160\n",
            "Accuracy on training set: 71.33333333333334%\n",
            "Iteration: 170\n",
            "Accuracy on training set: 71.6%\n",
            "Iteration: 180\n",
            "Accuracy on training set: 72.26666666666667%\n",
            "Iteration: 190\n",
            "Accuracy on training set: 72.53333333333333%\n",
            "Iteration: 200\n",
            "Accuracy on training set: 73.2%\n",
            "Iteration: 210\n",
            "Accuracy on training set: 73.6%\n",
            "Iteration: 220\n",
            "Accuracy on training set: 74.0%\n",
            "Iteration: 230\n",
            "Accuracy on training set: 74.26666666666667%\n",
            "Iteration: 240\n",
            "Accuracy on training set: 74.53333333333333%\n",
            "Iteration: 250\n",
            "Accuracy on training set: 74.53333333333333%\n",
            "Iteration: 260\n",
            "Accuracy on training set: 74.53333333333333%\n",
            "Iteration: 270\n",
            "Accuracy on training set: 75.06666666666668%\n",
            "Iteration: 280\n",
            "Accuracy on training set: 75.06666666666668%\n",
            "Iteration: 290\n",
            "Accuracy on training set: 75.2%\n",
            "Iteration: 300\n",
            "Accuracy on training set: 76.0%\n",
            "Iteration: 310\n",
            "Accuracy on training set: 76.4%\n",
            "Iteration: 320\n",
            "Accuracy on training set: 76.53333333333333%\n",
            "Iteration: 330\n",
            "Accuracy on training set: 76.53333333333333%\n",
            "Iteration: 340\n",
            "Accuracy on training set: 76.8%\n",
            "Iteration: 350\n",
            "Accuracy on training set: 76.8%\n",
            "Iteration: 360\n",
            "Accuracy on training set: 76.66666666666667%\n",
            "Iteration: 370\n",
            "Accuracy on training set: 77.2%\n",
            "Iteration: 380\n",
            "Accuracy on training set: 77.2%\n",
            "Iteration: 390\n",
            "Accuracy on training set: 76.93333333333334%\n",
            "Iteration: 400\n",
            "Accuracy on training set: 76.8%\n",
            "Iteration: 410\n",
            "Accuracy on training set: 76.8%\n",
            "Iteration: 420\n",
            "Accuracy on training set: 77.60000000000001%\n",
            "Iteration: 430\n",
            "Accuracy on training set: 77.73333333333333%\n",
            "Iteration: 440\n",
            "Accuracy on training set: 77.73333333333333%\n",
            "Iteration: 450\n",
            "Accuracy on training set: 77.86666666666666%\n",
            "Iteration: 460\n",
            "Accuracy on training set: 77.86666666666666%\n",
            "Iteration: 470\n",
            "Accuracy on training set: 78.0%\n",
            "Iteration: 480\n",
            "Accuracy on training set: 78.0%\n",
            "Iteration: 490\n",
            "Accuracy on training set: 78.13333333333333%\n",
            "Iteration: 500\n",
            "Accuracy on training set: 78.13333333333333%\n",
            "Iteration: 510\n",
            "Accuracy on training set: 78.0%\n",
            "Iteration: 520\n",
            "Accuracy on training set: 78.13333333333333%\n",
            "Iteration: 530\n",
            "Accuracy on training set: 78.4%\n",
            "Iteration: 540\n",
            "Accuracy on training set: 78.26666666666667%\n",
            "Iteration: 550\n",
            "Accuracy on training set: 78.4%\n",
            "Iteration: 560\n",
            "Accuracy on training set: 78.26666666666667%\n",
            "Iteration: 570\n",
            "Accuracy on training set: 78.4%\n",
            "Iteration: 580\n",
            "Accuracy on training set: 78.53333333333333%\n",
            "Iteration: 590\n",
            "Accuracy on training set: 78.53333333333333%\n",
            "Iteration: 600\n",
            "Accuracy on training set: 78.53333333333333%\n",
            "Iteration: 610\n",
            "Accuracy on training set: 78.53333333333333%\n",
            "Iteration: 620\n",
            "Accuracy on training set: 78.4%\n",
            "Iteration: 630\n",
            "Accuracy on training set: 78.4%\n",
            "Iteration: 640\n",
            "Accuracy on training set: 78.4%\n",
            "Iteration: 650\n",
            "Accuracy on training set: 78.26666666666667%\n",
            "Iteration: 660\n",
            "Accuracy on training set: 78.26666666666667%\n",
            "Iteration: 670\n",
            "Accuracy on training set: 78.26666666666667%\n",
            "Iteration: 680\n",
            "Accuracy on training set: 78.26666666666667%\n",
            "Iteration: 690\n",
            "Accuracy on training set: 78.4%\n",
            "Iteration: 700\n",
            "Accuracy on training set: 78.4%\n",
            "Iteration: 710\n",
            "Accuracy on training set: 78.26666666666667%\n",
            "Iteration: 720\n",
            "Accuracy on training set: 78.13333333333333%\n",
            "Iteration: 730\n",
            "Accuracy on training set: 78.26666666666667%\n",
            "Iteration: 740\n",
            "Accuracy on training set: 78.26666666666667%\n",
            "Iteration: 750\n",
            "Accuracy on training set: 78.26666666666667%\n",
            "Iteration: 760\n",
            "Accuracy on training set: 78.4%\n",
            "Iteration: 770\n",
            "Accuracy on training set: 78.4%\n",
            "Iteration: 780\n",
            "Accuracy on training set: 78.4%\n",
            "Iteration: 790\n",
            "Accuracy on training set: 78.4%\n",
            "Iteration: 800\n",
            "Accuracy on training set: 78.4%\n",
            "Iteration: 810\n",
            "Accuracy on training set: 78.26666666666667%\n",
            "Iteration: 820\n",
            "Accuracy on training set: 78.26666666666667%\n",
            "Iteration: 830\n",
            "Accuracy on training set: 78.26666666666667%\n",
            "Iteration: 840\n",
            "Accuracy on training set: 78.4%\n",
            "Iteration: 850\n",
            "Accuracy on training set: 78.26666666666667%\n",
            "Iteration: 860\n",
            "Accuracy on training set: 78.26666666666667%\n",
            "Iteration: 870\n",
            "Accuracy on training set: 78.26666666666667%\n",
            "Iteration: 880\n",
            "Accuracy on training set: 78.26666666666667%\n",
            "Iteration: 890\n",
            "Accuracy on training set: 78.26666666666667%\n",
            "Iteration: 900\n",
            "Accuracy on training set: 78.4%\n",
            "Iteration: 910\n",
            "Accuracy on training set: 78.26666666666667%\n",
            "Iteration: 920\n",
            "Accuracy on training set: 78.4%\n",
            "Iteration: 930\n",
            "Accuracy on training set: 78.4%\n",
            "Iteration: 940\n",
            "Accuracy on training set: 78.4%\n",
            "Iteration: 950\n",
            "Accuracy on training set: 78.53333333333333%\n",
            "Iteration: 960\n",
            "Accuracy on training set: 78.66666666666666%\n",
            "Iteration: 970\n",
            "Accuracy on training set: 78.66666666666666%\n",
            "Iteration: 980\n",
            "Accuracy on training set: 78.66666666666666%\n",
            "Iteration: 990\n",
            "Accuracy on training set: 78.66666666666666%\n"
          ]
        }
      ]
    },
    {
      "cell_type": "code",
      "source": [
        "def make_predictions(X, W1, b1, W2, b2):\n",
        "    # Perform forward propagation to get predictions\n",
        "    _, _, _, A2 = forward_prop(W1, b1, W2, b2, X)\n",
        "    predictions = get_predictions(A2)\n",
        "\n",
        "    # Return the predictions\n",
        "    return predictions"
      ],
      "metadata": {
        "id": "EcUvhjmfMPEC"
      },
      "execution_count": 44,
      "outputs": []
    },
    {
      "cell_type": "code",
      "source": [
        "# Generate predictions on the test set\n",
        "test_predictions = make_predictions(X_testN, W1, b1, W2, b2)\n",
        "\n",
        "# Calculate accuracy on the testing set\n",
        "accuracy = get_accuracy(test_predictions, y_test) * 100\n",
        "print(f\"Accuracy on testing set: {accuracy}%\")\n"
      ],
      "metadata": {
        "colab": {
          "base_uri": "https://localhost:8080/",
          "height": 0
        },
        "id": "_ENR0MuMQqIb",
        "outputId": "166c0c0c-b6a5-46de-dc51-1224887d94cb"
      },
      "execution_count": 45,
      "outputs": [
        {
          "output_type": "stream",
          "name": "stdout",
          "text": [
            "Accuracy on testing set: 74.8%\n"
          ]
        }
      ]
    },
    {
      "cell_type": "markdown",
      "source": [
        "Out of the following models, we notice Random Forest with the highest accuracy on classification of customers, an expected result of an ensemble model such as this. The decision stumps generalize well over the dataset without overfitting.\n",
        "\n",
        "Meanwhile, the Artificial Neural Network scores an accuracy of 76% due to the simplicity of the model. With a single hidden layer composed of 6 neurons, it fails to capture the complexity of the credit card dataset.\n",
        "\n",
        "The Fischer’s Linear Discriminant model scores the least in terms of accuracy due to the nature of the dataset. The model does not fit well on a dataset with discretized nominal values."
      ],
      "metadata": {
        "id": "ga5FbZw6_Ksf"
      }
    },
    {
      "cell_type": "markdown",
      "source": [
        "# ***5. ML Model 4***"
      ],
      "metadata": {
        "id": "r7tCo3WfGNTz"
      }
    },
    {
      "cell_type": "markdown",
      "source": [
        "## FISHER'S LDA ##\n"
      ],
      "metadata": {
        "id": "FuNcx5HIFNYc"
      }
    },
    {
      "cell_type": "code",
      "source": [
        "# Identify the indices where the columns are categorical\n",
        "categorical_columns = [0, 2, 3, 5, 6, 8, 9, 11, 13, 14, 16, 18, 19, 20]\n",
        "\n",
        "# Apply one-hot encoding to the entire dataset\n",
        "X_encoded = pd.get_dummies(pd.DataFrame(np.concatenate((X_train, X_test), axis=0), columns=header[:-1]))\n",
        "\n",
        "# Separate back into training and test sets\n",
        "X_train_encoded = X_encoded[:len(X_train)]\n",
        "X_test_encoded = X_encoded[len(X_train):]\n",
        "\n",
        "# Convert to NumPy arrays\n",
        "X_train = X_train_encoded.values\n",
        "X_test = X_test_encoded.values"
      ],
      "metadata": {
        "id": "I0Ed_zGMEcz2"
      },
      "execution_count": 46,
      "outputs": []
    },
    {
      "cell_type": "code",
      "source": [
        "import numpy as np\n",
        "import pandas as pd\n",
        "\n",
        "# Convert Pandas DataFrames to NumPy arrays\n",
        "y_train = y_train.reshape(-1, 1)\n",
        "y_test = y_test.reshape(-1, 1)\n",
        "\n",
        "# Function to calculate mean vectors for each class\n",
        "def calculate_class_means(X, y):\n",
        "    classes = np.unique(y)\n",
        "    means = []\n",
        "    for c in classes:\n",
        "        class_mean = np.mean(X[y.flatten() == c], axis=0)\n",
        "        means.append(class_mean)\n",
        "    return np.array(means)\n",
        "\n",
        "\n",
        "class1_means = np.zeros((1, X_train.shape[1]))\n",
        "class2_means = np.zeros((1, X_train.shape[1]))\n",
        "class1_size = 0\n",
        "class2_size = 0\n",
        "\n",
        "feature_ds1 = []\n",
        "feature_ds2 = []\n",
        "\n",
        "for i in range(len(X_train)):\n",
        "  if(y_train[i] == 1):\n",
        "    class1_means += X_train[i]\n",
        "    class1_size += 1\n",
        "    feature_ds1.append(X_train[i])\n",
        "  else:\n",
        "    class2_means += X_train[i]\n",
        "    class2_size += 1\n",
        "    feature_ds2.append(X_train[i])\n",
        "\n",
        "S_b = class1_means - class2_means\n",
        "\n",
        "sum1 = np.zeros((X_train.shape[1], X_train.shape[1]))\n",
        "sum2 = np.zeros((X_train.shape[1], X_train.shape[1]))\n",
        "\n",
        "for i in range(len(X_train)):\n",
        "  if(y_train[i] == 1):\n",
        "    diff = X_train[i] - class1_means\n",
        "    sum1 = sum1 + np.matmul(np.transpose(diff), diff)\n",
        "  else:\n",
        "    diff = X_train[i] - class2_means\n",
        "    sum2 = sum2 + np.matmul(np.transpose(diff), diff)\n",
        "\n",
        "a = sum1/class1_size\n",
        "b = sum2/class2_size\n",
        "\n",
        "sw = a + b\n",
        "\n",
        "w = np.matmul(S_b, np.linalg.inv(sw))\n",
        "\n",
        "\n",
        "means = calculate_class_means(X_train,y_train)\n",
        "\n",
        "\n",
        "\n",
        "def calculate_within_class_scatter(X, y):\n",
        "    classes = np.unique(y)\n",
        "    S_w = np.zeros((X.shape[1], X.shape[1]))\n",
        "\n",
        "    for c in classes:\n",
        "        class_samples = X[y.flatten() == c]\n",
        "        class_mean = means[c-1]\n",
        "        m,n=class_samples.shape\n",
        "        difference=np.zeros((m,n))\n",
        "        for i in range(m):\n",
        "          difference[i]=(class_samples[i]-class_mean)\n",
        "        class_scatter = np.dot((difference).T, (difference))\n",
        "        S_w += class_scatter\n",
        "    return S_w\n",
        "\n",
        "\n",
        "\n",
        "proj1 = np.dot(feature_ds1, np.transpose(w))\n",
        "proj2 = np.dot(feature_ds2, np.transpose(w))\n",
        "\n",
        "X_test_lda = np.dot(X_test,np.transpose(w))\n",
        "\n",
        "accuracy = 0\n",
        "true_pos = 0\n",
        "true_neg=0\n",
        "false_pos=0\n",
        "false_neg=0\n",
        "for i in range(len(X_test)):\n",
        "  testproj = np.dot(X_test[i], np.transpose(w))\n",
        "  prob1 = (1/(proj1.std()*np.sqrt(2*np.pi))) * np.exp((-0.5) * np.square((testproj[0]-proj1.mean())/proj1.std()))\n",
        "  prob2 = (1/(proj2.std()*np.sqrt(2*np.pi))) * np.exp((-0.5) * np.square((testproj[0]-proj2.mean())/proj2.std()))\n",
        "  prediction = 1\n",
        "  if(prob2 > prob1 and y_test[i] == 2):\n",
        "    true_pos += 1\n",
        "    accuracy += 1\n",
        "  elif(prob1 >= prob2 and y_test[i] == 1):\n",
        "    true_neg += 1\n",
        "    accuracy += 1\n",
        "  elif(prob1 >= prob2 and y_test[i] == 2):\n",
        "    false_neg +=1\n",
        "  else:\n",
        "    false_pos += 1\n",
        "\n",
        "print(f\"Accuracy: {accuracy*100/len(y_test)}%\")\n",
        "print(f\"True Positive: {true_pos*100/len(y_test)}%\")\n",
        "print(f\"True negative: {true_neg*100/len(y_test)}%\")\n",
        "print(f\"False Positive: {false_pos*100/len(y_test)}%\")\n",
        "print(f\"False Negative: {false_neg*100/len(y_test)}%\")"
      ],
      "metadata": {
        "id": "afE7tLzN3WoJ",
        "colab": {
          "base_uri": "https://localhost:8080/",
          "height": 0
        },
        "outputId": "d360189a-aa7e-4c65-aa09-802a8bfbcc4a"
      },
      "execution_count": 47,
      "outputs": [
        {
          "output_type": "stream",
          "name": "stdout",
          "text": [
            "Accuracy: 66.4%\n",
            "True Positive: 22.0%\n",
            "True negative: 44.4%\n",
            "False Positive: 27.6%\n",
            "False Negative: 6.0%\n"
          ]
        }
      ]
    },
    {
      "cell_type": "code",
      "source": [
        "import matplotlib.pyplot as plt\n",
        "\n",
        "# Define the confusion matrix values\n",
        "conf_matrix = [[true_neg, false_pos], [false_neg, true_pos]]\n",
        "\n",
        "# Create the confusion matrix plot\n",
        "plt.figure(figsize=(6, 4))\n",
        "plt.imshow(conf_matrix, interpolation='nearest', cmap=plt.cm.Blues)\n",
        "plt.title('Confusion Matrix')\n",
        "plt.colorbar()\n",
        "\n",
        "# Add annotations to the plot\n",
        "for i in range(2):\n",
        "    for j in range(2):\n",
        "        plt.text(j, i, str(conf_matrix[i][j]), horizontalalignment='center', color='white' if conf_matrix[i][j] > (np.sum(conf_matrix) / 2) else 'black')\n",
        "\n",
        "plt.ylabel('True label')\n",
        "plt.xlabel('Predicted label')\n",
        "plt.xticks([0, 1], ['Predicted 1', 'Predicted 2'])\n",
        "plt.yticks([0, 1], ['Actual 1', 'Actual 2'])\n",
        "plt.tight_layout()\n",
        "plt.show()\n"
      ],
      "metadata": {
        "colab": {
          "base_uri": "https://localhost:8080/",
          "height": 407
        },
        "id": "e8v2vWkOFmER",
        "outputId": "c94e98e2-f1c3-4faf-be0a-3513ed11bf9d"
      },
      "execution_count": 48,
      "outputs": [
        {
          "output_type": "display_data",
          "data": {
            "text/plain": [
              "<Figure size 600x400 with 2 Axes>"
            ],
            "image/png": "[encoded data removed]"
          },
          "metadata": {}
        }
      ]
    },
    {
      "cell_type": "markdown",
      "source": [
        "# ***6. Comparison of insights drawn from the models***"
      ],
      "metadata": {
        "id": "2p-mPVFCSe9V"
      }
    },
    {
      "cell_type": "markdown",
      "source": [
        "Fisher's Linear Discriminant Analysis (LDA) is a statistical technique employed in pattern recognition and classification to discern a linear combination of input features that best characterizes or distinguishes between two or more classes within a dataset. This method aims to maximize the separation between different classes while simultaneously minimizing the variability within each class. At its core, Fisher's LDA seeks to find a projection vector in the feature space that optimally captures the distinctions between classes, essentially maximizing the ratio of between-class variance to within-class variance. This technique is particularly valuable for dimensionality reduction and feature extraction, providing a linear discriminant that can be used as a decision rule for classifying new observations based on their feature values."
      ],
      "metadata": {
        "id": "mvU5JN-XF2tx"
      }
    },
    {
      "cell_type": "markdown",
      "source": [
        "# **_7. References_**\n",
        "\n",
        "1.  https://towardsdatascience.com/an-overview-of-categorical-input-handling-for-neural-networks-c172ba552dee\n",
        "2.  https://towardsdatascience.com/the-heart-of-artificial-neural-networks-26627e8c03ba\n",
        "\n",
        "    ‘Research Paper on Basic of Artificial Neural Network’ by Sonali B.Maind and Priyanka Wankar.\n",
        "\n"
      ],
      "metadata": {
        "id": "81SwQ_y4TaSc"
      }
    }
  ]
}